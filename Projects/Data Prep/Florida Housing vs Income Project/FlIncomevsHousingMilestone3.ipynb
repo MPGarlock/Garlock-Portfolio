{
 "cells": [
  {
   "cell_type": "code",
   "execution_count": null,
   "id": "8d03a017-0a18-4389-a219-df2ae4cadae5",
   "metadata": {},
   "outputs": [],
   "source": [
    "# Milestone 3: Cleaning and Formatting Website Data\n",
    "# Matt Garlock\n",
    "# 7/8/24"
   ]
  },
  {
   "cell_type": "code",
   "execution_count": null,
   "id": "3366bee0-a932-47cc-bb5a-701cce55527b",
   "metadata": {},
   "outputs": [],
   "source": [
    "# Import necessary libraries\n",
    "import requests\n",
    "from bs4 import BeautifulSoup\n",
    "import pandas as pd\n",
    "\n",
    "# Step 1: Load the data from the website\n",
    "url = \"https://meric.mo.gov/data/cost-living-data-series\"\n",
    "response = requests.get(url)\n",
    "soup = BeautifulSoup(response.content, 'html.parser')\n",
    "\n",
    "# Locate the table in the HTML content\n",
    "table = soup.find('table')\n"
   ]
  },
  {
   "cell_type": "code",
   "execution_count": null,
   "id": "12631b96-bd9e-4b65-864d-844d3495cd83",
   "metadata": {},
   "outputs": [],
   "source": [
    "# Step 2: Replace Headers\n"
   ]
  },
  {
   "cell_type": "code",
   "execution_count": null,
   "id": "954d11ac-777a-4456-921d-42a849af6da3",
   "metadata": {},
   "outputs": [],
   "source": [
    "# Step 2: Replace Headers\n",
    "headers = [header.text.strip().replace(' ', '_').lower() for header in table.find_all('th')]\n",
    "\n",
    "# Extract rows and cells\n",
    "rows = []\n",
    "for row in table.find_all('tr')[1:]:  # Skip the header row\n",
    "    cells = row.find_all('td')\n",
    "    cells = [cell.text.strip() for cell in cells]\n",
    "    rows.append(cells)\n",
    "\n",
    "# Create a DataFrame\n",
    "df = pd.DataFrame(rows, columns=headers)\n",
    "print(\"Step 2: Replace Headers\\n\", df.head())\n"
   ]
  },
  {
   "cell_type": "code",
   "execution_count": null,
   "id": "e901014a-a077-43b7-97b4-78262e0f4e05",
   "metadata": {},
   "outputs": [],
   "source": [
    "# Step 3: Format Data\n"
   ]
  },
  {
   "cell_type": "code",
   "execution_count": null,
   "id": "52a733a6-e956-4e26-b4f2-61c4f609b833",
   "metadata": {},
   "outputs": [],
   "source": [
    "# Step 3: Format data into a more readable format\n",
    "df.replace(\"\", pd.NA, inplace=True)\n",
    "df.dropna(how='all', inplace=True)\n",
    "df.reset_index(drop=True, inplace=True)\n",
    "print(\"\\nStep 3: Format data into a more readable format\\n\", df.head())\n"
   ]
  },
  {
   "cell_type": "code",
   "execution_count": null,
   "id": "ae709397-d16c-485f-9089-1864534e39ae",
   "metadata": {},
   "outputs": [],
   "source": [
    "# Step 4: Identify and Handle Outliers\n"
   ]
  },
  {
   "cell_type": "code",
   "execution_count": null,
   "id": "a1a08b3c-b675-4a1b-bbc9-7e4a23b25e01",
   "metadata": {},
   "outputs": [],
   "source": [
    "# Step 4: Identify and Handle Outliers\n",
    "numeric_columns = df.select_dtypes(include=['float64', 'int64']).columns\n",
    "Q1 = df[numeric_columns].quantile(0.25)\n",
    "Q3 = df[numeric_columns].quantile(0.75)\n",
    "IQR = Q3 - Q1\n",
    "\n",
    "df_outliers_removed = df[~((df[numeric_columns] < (Q1 - 1.5 * IQR)) | (df[numeric_columns] > (Q3 + 1.5 * IQR))).any(axis=1)]\n",
    "print(\"\\nStep 4: Identify and Handle Outliers\\n\", df_outliers_removed.describe())\n"
   ]
  },
  {
   "cell_type": "code",
   "execution_count": null,
   "id": "3e739377-c03d-4253-9bae-6f701039f98f",
   "metadata": {},
   "outputs": [],
   "source": [
    "# Step 5: Find and Remove Duplicates\n"
   ]
  },
  {
   "cell_type": "code",
   "execution_count": null,
   "id": "407769a7-8e14-4e18-811c-5efc24b7514a",
   "metadata": {},
   "outputs": [],
   "source": [
    "# Step 5: Find and Remove Duplicates\n",
    "df_outliers_removed.drop_duplicates(inplace=True)\n",
    "print(\"\\nStep 5: Find and Remove Duplicates\\n\", df_outliers_removed.duplicated().sum())\n"
   ]
  },
  {
   "cell_type": "code",
   "execution_count": null,
   "id": "37c81b35-b813-4ca9-bac9-70809b239be5",
   "metadata": {},
   "outputs": [],
   "source": [
    "# Step 6: Fix Casing or Inconsistent Values\n"
   ]
  },
  {
   "cell_type": "code",
   "execution_count": null,
   "id": "ee534db9-1a38-42e4-9410-ea2067824361",
   "metadata": {},
   "outputs": [],
   "source": [
    "# Step 6: Fix Casing or Inconsistent Values\n",
    "df_outliers_removed = df_outliers_removed.apply(lambda col: col.map(lambda x: x.lower() if isinstance(x, str) else x))\n",
    "print(\"\\nStep 6: Fix Casing or Inconsistent Values\\n\", df_outliers_removed.head())\n",
    "\n"
   ]
  },
  {
   "cell_type": "code",
   "execution_count": null,
   "id": "a3ba65a9-a894-4847-aee1-63ca4826cc5d",
   "metadata": {},
   "outputs": [],
   "source": [
    "# Final Cleaned Data\n"
   ]
  },
  {
   "cell_type": "code",
   "execution_count": null,
   "id": "6118a6b3-0539-4409-9b4a-f0be172edc9a",
   "metadata": {},
   "outputs": [],
   "source": [
    "# Final Human Readable Data\n",
    "print(\"\\nFinal Cleaned Data\\n\", df_outliers_removed)\n",
    "\n",
    "# Save to a new HTML file to maintain format\n",
    "df_outliers_removed.to_html('cleaned_data.html', index=False)\n"
   ]
  },
  {
   "cell_type": "code",
   "execution_count": null,
   "id": "87cabd69-9672-48d0-b52d-938895937e89",
   "metadata": {},
   "outputs": [],
   "source": [
    "# Ethical Implications\n"
   ]
  },
  {
   "cell_type": "code",
   "execution_count": null,
   "id": "2f9b63a9-7ea7-43de-a752-aa0b1cb4ab28",
   "metadata": {},
   "outputs": [],
   "source": [
    "# Ethical Implications\n",
    "ethical_implications = \"\"\"\n",
    "Ethical Implications of Data Wrangling:\n",
    "\n",
    "1. What changes were made to the data?\n",
    "   Headers were replaced, data was formatted for readability, outliers were handled, duplicates were removed, and inconsistencies in casing were fixed.\n",
    "\n",
    "2. Are there any legal or regulatory guidelines for your data or project topic?\n",
    "   The data is sourced from a public website, ensuring no legal restrictions. However, ensuring accuracy and ethical use of the data is important.\n",
    "\n",
    "3. What risks could be created based on the transformations done?\n",
    "   Handling outliers and filling missing values can introduce bias. Removing duplicates might inadvertently remove legitimate repeated entries.\n",
    "\n",
    "4. Did you make any assumptions in cleaning/transforming the data?\n",
    "   Assumed that median is a suitable replacement for missing values and that outliers do not represent typical data points.\n",
    "\n",
    "5. How was your data sourced / verified for credibility?\n",
    "   Data was sourced from a credible public domain (MERIC website).\n",
    "\n",
    "6. Was your data acquired in an ethical way?\n",
    "   Yes, the data was acquired from a publicly available source.\n",
    "\n",
    "7. How would you mitigate any of the ethical implications you have identified?\n",
    "   Documenting assumptions and methods used in data cleaning. Conducting sensitivity analysis to understand the impact of transformations on results.\n",
    "\"\"\"\n",
    "print(\"\\nEthical Implications\\n\", ethical_implications)\n",
    "\n"
   ]
  },
  {
   "cell_type": "code",
   "execution_count": null,
   "id": "b7626a2f-a81f-4ca4-bcc5-272916354947",
   "metadata": {},
   "outputs": [],
   "source": [
    "# Assuming df_milestone3_cleaned is your cleaned DataFrame from Milestone 3\n",
    "df_milestone3_cleaned.to_csv('/Users/mattgarlock/Downloads/cleaned_output_milestone3.csv', index=False)\n"
   ]
  },
  {
   "cell_type": "code",
   "execution_count": null,
   "id": "11281b1a-a429-4522-b896-27480428d175",
   "metadata": {},
   "outputs": [],
   "source": []
  }
 ],
 "metadata": {
  "kernelspec": {
   "display_name": "Python [conda env:base] *",
   "language": "python",
   "name": "conda-base-py"
  },
  "language_info": {
   "codemirror_mode": {
    "name": "ipython",
    "version": 3
   },
   "file_extension": ".py",
   "mimetype": "text/x-python",
   "name": "python",
   "nbconvert_exporter": "python",
   "pygments_lexer": "ipython3",
   "version": "3.11.8"
  }
 },
 "nbformat": 4,
 "nbformat_minor": 5
}
