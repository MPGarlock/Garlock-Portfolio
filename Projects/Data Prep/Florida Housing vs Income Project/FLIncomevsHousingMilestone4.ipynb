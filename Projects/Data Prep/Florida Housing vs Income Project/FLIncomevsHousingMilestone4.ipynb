{
 "cells": [
  {
   "cell_type": "code",
   "execution_count": null,
   "id": "1963b6a0-120f-427e-b7e5-54c83f711b2b",
   "metadata": {},
   "outputs": [],
   "source": [
    "# Matt Garlock\n",
    "# Milestone 4\n",
    "# 7/20/2024"
   ]
  },
  {
   "cell_type": "code",
   "execution_count": 1,
   "id": "f2ed701c-fc48-4c34-86bb-7de4d399e68c",
   "metadata": {},
   "outputs": [],
   "source": [
    "# Step 1: Import Libraries\n"
   ]
  },
  {
   "cell_type": "code",
   "execution_count": 3,
   "id": "4c56f762-783d-480f-9e66-b74c9f5b9a23",
   "metadata": {},
   "outputs": [],
   "source": [
    "import requests\n",
    "import pandas as pd\n",
    "import numpy as np\n"
   ]
  },
  {
   "cell_type": "code",
   "execution_count": 4,
   "id": "32e61435-e5d3-485c-8eff-d498688167b4",
   "metadata": {},
   "outputs": [],
   "source": [
    "# Step 2: Connect to the API and Pull in the Data\n"
   ]
  },
  {
   "cell_type": "code",
   "execution_count": 5,
   "id": "fbc4595a-2d53-4710-9db6-a8dc6e3f1ed0",
   "metadata": {},
   "outputs": [],
   "source": [
    "api_url = 'https://api.census.gov/data/2020/acs/acs5?get=NAME,B19013_001E&for=county:*&key=b052b141e035945892840b02ecf138665be411c7'\n",
    "response = requests.get(api_url)\n",
    "data = response.json()\n",
    "\n",
    "# Convert the data into a DataFrame\n",
    "columns = data[0]\n",
    "rows = data[1:]\n",
    "df = pd.DataFrame(rows, columns=columns)\n"
   ]
  },
  {
   "cell_type": "code",
   "execution_count": 6,
   "id": "f20d85fe-4930-4ff9-8f75-a9821be11483",
   "metadata": {},
   "outputs": [],
   "source": [
    "## Step 3: Replace Headers\n"
   ]
  },
  {
   "cell_type": "code",
   "execution_count": 7,
   "id": "9d80a6e4-78b2-4090-9668-1f6dfeb809d9",
   "metadata": {},
   "outputs": [
    {
     "name": "stdout",
     "output_type": "stream",
     "text": [
      "Step #1: Replace Headers\n",
      "                County_Name Median_Income State_Code County_Code\n",
      "0  Autauga County, Alabama         57982         01         001\n",
      "1  Baldwin County, Alabama         61756         01         003\n",
      "2  Barbour County, Alabama         34990         01         005\n",
      "3     Bibb County, Alabama         51721         01         007\n",
      "4   Blount County, Alabama         48922         01         009\n"
     ]
    }
   ],
   "source": [
    "df.columns = ['County_Name', 'Median_Income', 'State_Code', 'County_Code']\n",
    "print(\"Step #1: Replace Headers\\n\", df.head())\n"
   ]
  },
  {
   "cell_type": "code",
   "execution_count": 8,
   "id": "19842ded-a861-4bd7-965f-031ad4aa2495",
   "metadata": {},
   "outputs": [],
   "source": [
    "## Step 4: Format Data\n"
   ]
  },
  {
   "cell_type": "code",
   "execution_count": 9,
   "id": "9ceae4a1-cd87-40eb-a8ec-e32383627dcf",
   "metadata": {},
   "outputs": [
    {
     "name": "stdout",
     "output_type": "stream",
     "text": [
      "Step #2: Format Data\n",
      " County_Name      object\n",
      "Median_Income     int64\n",
      "State_Code       object\n",
      "County_Code      object\n",
      "dtype: object\n"
     ]
    }
   ],
   "source": [
    "df['Median_Income'] = pd.to_numeric(df['Median_Income'], errors='coerce')\n",
    "print(\"Step #2: Format Data\\n\", df.dtypes)\n"
   ]
  },
  {
   "cell_type": "code",
   "execution_count": 10,
   "id": "2b652144-1491-4dae-ac87-4c310ec25336",
   "metadata": {},
   "outputs": [],
   "source": [
    "## Step 5: Identify Outliers\n"
   ]
  },
  {
   "cell_type": "code",
   "execution_count": 11,
   "id": "144a6619-33b5-4143-a1c3-b934eb7234e2",
   "metadata": {},
   "outputs": [
    {
     "name": "stdout",
     "output_type": "stream",
     "text": [
      "Step #3: Identify Outliers\n",
      "                        County_Name  Median_Income State_Code County_Code\n",
      "26         Oldham County, Kentucky         103761         21         185\n",
      "63        Carver County, Minnesota         104011         27         019\n",
      "66       Chisago County, Minnesota          86900         27         025\n",
      "89    Williamson County, Tennessee         111196         47         187\n",
      "94              Davis County, Utah          87570         49         011\n",
      "...                            ...            ...        ...         ...\n",
      "2825       Howard County, Maryland         124042         24         027\n",
      "2826   Montgomery County, Maryland         111812         24         031\n",
      "2827   St. Mary's County, Maryland          95864         24         037\n",
      "2893        Johnson County, Kansas          91650         20         091\n",
      "3218   Sherburne County, Minnesota          88671         27         141\n",
      "\n",
      "[182 rows x 4 columns]\n"
     ]
    }
   ],
   "source": [
    "q1 = df['Median_Income'].quantile(0.25)\n",
    "q3 = df['Median_Income'].quantile(0.75)\n",
    "iqr = q3 - q1\n",
    "outliers = df[(df['Median_Income'] < (q1 - 1.5 * iqr)) | (df['Median_Income'] > (q3 + 1.5 * iqr))]\n",
    "print(\"Step #3: Identify Outliers\\n\", outliers)\n"
   ]
  },
  {
   "cell_type": "code",
   "execution_count": 12,
   "id": "6e692d9c-7b88-42b2-9780-69126ba7dca3",
   "metadata": {},
   "outputs": [],
   "source": [
    "## Step 6: Fix Casing/Inconsistent Values\n"
   ]
  },
  {
   "cell_type": "code",
   "execution_count": 13,
   "id": "6831faf5-9f47-4453-88c8-48a6769a1330",
   "metadata": {},
   "outputs": [
    {
     "name": "stdout",
     "output_type": "stream",
     "text": [
      "Step #4: Fix Casing/Inconsistent Values\n",
      "                County_Name  Median_Income State_Code County_Code\n",
      "0  Autauga County, Alabama          57982         01         001\n",
      "1  Baldwin County, Alabama          61756         01         003\n",
      "2  Barbour County, Alabama          34990         01         005\n",
      "3     Bibb County, Alabama          51721         01         007\n",
      "4   Blount County, Alabama          48922         01         009\n"
     ]
    }
   ],
   "source": [
    "df['County_Name'] = df['County_Name'].str.title()\n",
    "print(\"Step #4: Fix Casing/Inconsistent Values\\n\", df.head())\n"
   ]
  },
  {
   "cell_type": "code",
   "execution_count": 14,
   "id": "283e6e8f-51b5-4ccc-b675-30e38ee52972",
   "metadata": {},
   "outputs": [],
   "source": [
    "## Step 7: Remove Duplicates\n"
   ]
  },
  {
   "cell_type": "code",
   "execution_count": 15,
   "id": "bbdfd889-08ae-4eae-96c5-d85152106d3c",
   "metadata": {},
   "outputs": [
    {
     "name": "stdout",
     "output_type": "stream",
     "text": [
      "Step #5: Remove Duplicates\n",
      "                County_Name  Median_Income State_Code County_Code\n",
      "0  Autauga County, Alabama          57982         01         001\n",
      "1  Baldwin County, Alabama          61756         01         003\n",
      "2  Barbour County, Alabama          34990         01         005\n",
      "3     Bibb County, Alabama          51721         01         007\n",
      "4   Blount County, Alabama          48922         01         009\n"
     ]
    }
   ],
   "source": [
    "df = df.drop_duplicates()\n",
    "print(\"Step #5: Remove Duplicates\\n\", df.head())\n"
   ]
  },
  {
   "cell_type": "code",
   "execution_count": 16,
   "id": "ca496701-0318-489f-87f0-9610726b5469",
   "metadata": {},
   "outputs": [],
   "source": [
    "## Cleaned Dataset\n"
   ]
  },
  {
   "cell_type": "code",
   "execution_count": 17,
   "id": "cb65a719-b079-4fda-8248-8432160b2f2b",
   "metadata": {},
   "outputs": [
    {
     "name": "stdout",
     "output_type": "stream",
     "text": [
      "Cleaned Dataset:\n",
      "                County_Name  Median_Income State_Code County_Code\n",
      "0  Autauga County, Alabama          57982         01         001\n",
      "1  Baldwin County, Alabama          61756         01         003\n",
      "2  Barbour County, Alabama          34990         01         005\n",
      "3     Bibb County, Alabama          51721         01         007\n",
      "4   Blount County, Alabama          48922         01         009\n"
     ]
    }
   ],
   "source": [
    "print(\"Cleaned Dataset:\\n\", df.head())\n"
   ]
  },
  {
   "cell_type": "code",
   "execution_count": 18,
   "id": "ef45002d-1286-4224-ba02-6358d24445af",
   "metadata": {},
   "outputs": [],
   "source": [
    "## Ethical Implications\n"
   ]
  },
  {
   "cell_type": "code",
   "execution_count": 19,
   "id": "5c2da1df-128d-4700-a8de-1e862b418e70",
   "metadata": {},
   "outputs": [
    {
     "name": "stdout",
     "output_type": "stream",
     "text": [
      "\n",
      "Ethical Implications\n",
      " \n",
      "Ethical Implications of Data Wrangling:\n",
      "\n",
      "1. What changes were made to the data?\n",
      "   Headers were renamed, data types were formatted, outliers were identified, casing was standardized, and duplicates were removed.\n",
      "\n",
      "2. Are there any legal or regulatory guidelines for your data or project topic?\n",
      "   The data is sourced from a publicly available API (US Census Bureau), and thus complies with public data usage policies.\n",
      "\n",
      "3. What risks could be created based on the transformations done?\n",
      "   Removing outliers might exclude relevant data points, leading to potential bias. Ensuring that the transformations do not distort the data's original meaning is crucial.\n",
      "\n",
      "4. Did you make any assumptions in cleaning/transforming the data?\n",
      "   Assumed that all numeric entries should be converted to numeric types and that standardizing county names to title case would not affect analysis.\n",
      "\n",
      "5. How was your data sourced / verified for credibility?\n",
      "   Data was sourced directly from the US Census Bureau API, a reputable source for demographic data.\n",
      "\n",
      "6. Was your data acquired in an ethical way?\n",
      "   Yes, data was obtained from a publicly accessible API.\n",
      "\n",
      "7. How would you mitigate any of the ethical implications you have identified?\n",
      "   Carefully document all steps and decisions made during data cleaning and ensure that outlier handling and transformations are justified based on the analysis context.\n",
      "\n"
     ]
    }
   ],
   "source": [
    "ethical_implications = \"\"\"\n",
    "Ethical Implications of Data Wrangling:\n",
    "\n",
    "1. What changes were made to the data?\n",
    "   Headers were renamed, data types were formatted, outliers were identified, casing was standardized, and duplicates were removed.\n",
    "\n",
    "2. Are there any legal or regulatory guidelines for your data or project topic?\n",
    "   The data is sourced from a publicly available API (US Census Bureau), and thus complies with public data usage policies.\n",
    "\n",
    "3. What risks could be created based on the transformations done?\n",
    "   Removing outliers might exclude relevant data points, leading to potential bias. Ensuring that the transformations do not distort the data's original meaning is crucial.\n",
    "\n",
    "4. Did you make any assumptions in cleaning/transforming the data?\n",
    "   Assumed that all numeric entries should be converted to numeric types and that standardizing county names to title case would not affect analysis.\n",
    "\n",
    "5. How was your data sourced / verified for credibility?\n",
    "   Data was sourced directly from the US Census Bureau API, a reputable source for demographic data.\n",
    "\n",
    "6. Was your data acquired in an ethical way?\n",
    "   Yes, data was obtained from a publicly accessible API.\n",
    "\n",
    "7. How would you mitigate any of the ethical implications you have identified?\n",
    "   Carefully document all steps and decisions made during data cleaning and ensure that outlier handling and transformations are justified based on the analysis context.\n",
    "\"\"\"\n",
    "print(\"\\nEthical Implications\\n\", ethical_implications)\n"
   ]
  },
  {
   "cell_type": "code",
   "execution_count": 20,
   "id": "6a46915e-de7f-498b-b92a-d4061341af8b",
   "metadata": {},
   "outputs": [],
   "source": [
    "# Save the cleaned dataset as a JSON file\n",
    "df.to_json('/Users/mattgarlock/Downloads/cleaned_output_milestone4.json', orient='records', lines=True)\n"
   ]
  },
  {
   "cell_type": "code",
   "execution_count": null,
   "id": "288d2c27-65b8-48ce-8fcb-372181b9e503",
   "metadata": {},
   "outputs": [],
   "source": []
  }
 ],
 "metadata": {
  "kernelspec": {
   "display_name": "Python [conda env:base] *",
   "language": "python",
   "name": "conda-base-py"
  },
  "language_info": {
   "codemirror_mode": {
    "name": "ipython",
    "version": 3
   },
   "file_extension": ".py",
   "mimetype": "text/x-python",
   "name": "python",
   "nbconvert_exporter": "python",
   "pygments_lexer": "ipython3",
   "version": "3.11.8"
  }
 },
 "nbformat": 4,
 "nbformat_minor": 5
}
